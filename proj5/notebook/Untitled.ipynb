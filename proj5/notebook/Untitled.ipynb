{
 "cells": [
  {
   "cell_type": "markdown",
   "id": "3b341a54-8639-472e-8064-bed450fc3d2a",
   "metadata": {},
   "source": [
    "### Tree Based Methods ###"
   ]
  },
  {
   "cell_type": "markdown",
   "id": "036c0794-e482-4f04-a32e-f027f415dbf9",
   "metadata": {},
   "source": [
    "***Download the APS Failure data from:\n",
    "https://archive.ics.uci.edu/ml/datasets/\n",
    "APS+Failure+at+Scania+Trucks\n",
    ". The dataset contains a training set and a test\n",
    "set. The training set contains 60,000 rows, of which 1,000 belong to the positive\n",
    "class and 171 columns, of which one is the class column. All attributes are nu-\n",
    "meric.***"
   ]
  },
  {
   "cell_type": "code",
   "execution_count": 4,
   "id": "cdf8df67-e7a7-4dae-8917-d2d28e5e6f62",
   "metadata": {},
   "outputs": [
    {
     "name": "stdout",
     "output_type": "stream",
     "text": [
      "Requirement already satisfied: xgboost in /opt/anaconda3/lib/python3.12/site-packages (2.1.2)\n",
      "Requirement already satisfied: numpy in /opt/anaconda3/lib/python3.12/site-packages (from xgboost) (1.26.4)\n",
      "Requirement already satisfied: scipy in /opt/anaconda3/lib/python3.12/site-packages (from xgboost) (1.13.1)\n"
     ]
    }
   ],
   "source": [
    "!python -m pip install xgboost\n"
   ]
  },
  {
   "cell_type": "code",
   "execution_count": 8,
   "id": "767d2c10-3a3a-4afc-8a08-221a0c838782",
   "metadata": {},
   "outputs": [
    {
     "data": {
      "text/plain": [
       "'1.4.2'"
      ]
     },
     "execution_count": 8,
     "metadata": {},
     "output_type": "execute_result"
    }
   ],
   "source": [
    "import sklearn \n",
    "sklearn.__version__\n"
   ]
  },
  {
   "cell_type": "code",
   "execution_count": null,
   "id": "96e34229-7349-4b0f-9723-c02d355edde9",
   "metadata": {},
   "outputs": [],
   "source": [
    "train_path = '../data/aps_failure_training_set.csv'\n",
    "test_path = '../data/aps_failure_test_set.csv'"
   ]
  }
 ],
 "metadata": {
  "kernelspec": {
   "display_name": "Python 3 (ipykernel)",
   "language": "python",
   "name": "python3"
  },
  "language_info": {
   "codemirror_mode": {
    "name": "ipython",
    "version": 3
   },
   "file_extension": ".py",
   "mimetype": "text/x-python",
   "name": "python",
   "nbconvert_exporter": "python",
   "pygments_lexer": "ipython3",
   "version": "3.12.4"
  }
 },
 "nbformat": 4,
 "nbformat_minor": 5
}
